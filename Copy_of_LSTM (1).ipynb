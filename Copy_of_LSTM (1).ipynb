{
 "cells": [
  {
   "cell_type": "code",
   "execution_count": null,
   "metadata": {
    "colab": {
     "base_uri": "https://localhost:8080/"
    },
    "id": "lmM3fuiev3HN",
    "outputId": "a892d366-ac85-419b-9a36-a20050a2eaa5"
   },
   "outputs": [
    {
     "name": "stdout",
     "output_type": "stream",
     "text": [
      "Collecting datasets\n",
      "  Downloading datasets-3.6.0-py3-none-any.whl.metadata (19 kB)\n",
      "Requirement already satisfied: filelock in /usr/local/lib/python3.11/dist-packages (from datasets) (3.18.0)\n",
      "Requirement already satisfied: numpy>=1.17 in /usr/local/lib/python3.11/dist-packages (from datasets) (2.0.2)\n",
      "Requirement already satisfied: pyarrow>=15.0.0 in /usr/local/lib/python3.11/dist-packages (from datasets) (18.1.0)\n",
      "Collecting dill<0.3.9,>=0.3.0 (from datasets)\n",
      "  Downloading dill-0.3.8-py3-none-any.whl.metadata (10 kB)\n",
      "Requirement already satisfied: pandas in /usr/local/lib/python3.11/dist-packages (from datasets) (2.2.2)\n",
      "Requirement already satisfied: requests>=2.32.2 in /usr/local/lib/python3.11/dist-packages (from datasets) (2.32.3)\n",
      "Requirement already satisfied: tqdm>=4.66.3 in /usr/local/lib/python3.11/dist-packages (from datasets) (4.67.1)\n",
      "Collecting xxhash (from datasets)\n",
      "  Downloading xxhash-3.5.0-cp311-cp311-manylinux_2_17_x86_64.manylinux2014_x86_64.whl.metadata (12 kB)\n",
      "Collecting multiprocess<0.70.17 (from datasets)\n",
      "  Downloading multiprocess-0.70.16-py311-none-any.whl.metadata (7.2 kB)\n",
      "Collecting fsspec<=2025.3.0,>=2023.1.0 (from fsspec[http]<=2025.3.0,>=2023.1.0->datasets)\n",
      "  Downloading fsspec-2025.3.0-py3-none-any.whl.metadata (11 kB)\n",
      "Requirement already satisfied: huggingface-hub>=0.24.0 in /usr/local/lib/python3.11/dist-packages (from datasets) (0.30.2)\n",
      "Requirement already satisfied: packaging in /usr/local/lib/python3.11/dist-packages (from datasets) (24.2)\n",
      "Requirement already satisfied: pyyaml>=5.1 in /usr/local/lib/python3.11/dist-packages (from datasets) (6.0.2)\n",
      "Requirement already satisfied: aiohttp!=4.0.0a0,!=4.0.0a1 in /usr/local/lib/python3.11/dist-packages (from fsspec[http]<=2025.3.0,>=2023.1.0->datasets) (3.11.15)\n",
      "Requirement already satisfied: typing-extensions>=3.7.4.3 in /usr/local/lib/python3.11/dist-packages (from huggingface-hub>=0.24.0->datasets) (4.13.2)\n",
      "Requirement already satisfied: charset-normalizer<4,>=2 in /usr/local/lib/python3.11/dist-packages (from requests>=2.32.2->datasets) (3.4.1)\n",
      "Requirement already satisfied: idna<4,>=2.5 in /usr/local/lib/python3.11/dist-packages (from requests>=2.32.2->datasets) (3.10)\n",
      "Requirement already satisfied: urllib3<3,>=1.21.1 in /usr/local/lib/python3.11/dist-packages (from requests>=2.32.2->datasets) (2.4.0)\n",
      "Requirement already satisfied: certifi>=2017.4.17 in /usr/local/lib/python3.11/dist-packages (from requests>=2.32.2->datasets) (2025.4.26)\n",
      "Requirement already satisfied: python-dateutil>=2.8.2 in /usr/local/lib/python3.11/dist-packages (from pandas->datasets) (2.9.0.post0)\n",
      "Requirement already satisfied: pytz>=2020.1 in /usr/local/lib/python3.11/dist-packages (from pandas->datasets) (2025.2)\n",
      "Requirement already satisfied: tzdata>=2022.7 in /usr/local/lib/python3.11/dist-packages (from pandas->datasets) (2025.2)\n",
      "Requirement already satisfied: aiohappyeyeballs>=2.3.0 in /usr/local/lib/python3.11/dist-packages (from aiohttp!=4.0.0a0,!=4.0.0a1->fsspec[http]<=2025.3.0,>=2023.1.0->datasets) (2.6.1)\n",
      "Requirement already satisfied: aiosignal>=1.1.2 in /usr/local/lib/python3.11/dist-packages (from aiohttp!=4.0.0a0,!=4.0.0a1->fsspec[http]<=2025.3.0,>=2023.1.0->datasets) (1.3.2)\n",
      "Requirement already satisfied: attrs>=17.3.0 in /usr/local/lib/python3.11/dist-packages (from aiohttp!=4.0.0a0,!=4.0.0a1->fsspec[http]<=2025.3.0,>=2023.1.0->datasets) (25.3.0)\n",
      "Requirement already satisfied: frozenlist>=1.1.1 in /usr/local/lib/python3.11/dist-packages (from aiohttp!=4.0.0a0,!=4.0.0a1->fsspec[http]<=2025.3.0,>=2023.1.0->datasets) (1.6.0)\n",
      "Requirement already satisfied: multidict<7.0,>=4.5 in /usr/local/lib/python3.11/dist-packages (from aiohttp!=4.0.0a0,!=4.0.0a1->fsspec[http]<=2025.3.0,>=2023.1.0->datasets) (6.4.3)\n",
      "Requirement already satisfied: propcache>=0.2.0 in /usr/local/lib/python3.11/dist-packages (from aiohttp!=4.0.0a0,!=4.0.0a1->fsspec[http]<=2025.3.0,>=2023.1.0->datasets) (0.3.1)\n",
      "Requirement already satisfied: yarl<2.0,>=1.17.0 in /usr/local/lib/python3.11/dist-packages (from aiohttp!=4.0.0a0,!=4.0.0a1->fsspec[http]<=2025.3.0,>=2023.1.0->datasets) (1.20.0)\n",
      "Requirement already satisfied: six>=1.5 in /usr/local/lib/python3.11/dist-packages (from python-dateutil>=2.8.2->pandas->datasets) (1.17.0)\n",
      "Downloading datasets-3.6.0-py3-none-any.whl (491 kB)\n",
      "\u001b[2K   \u001b[90m━━━━━━━━━━━━━━━━━━━━━━━━━━━━━━━━━━━━━━━━\u001b[0m \u001b[32m491.5/491.5 kB\u001b[0m \u001b[31m13.4 MB/s\u001b[0m eta \u001b[36m0:00:00\u001b[0m\n",
      "\u001b[?25hDownloading dill-0.3.8-py3-none-any.whl (116 kB)\n",
      "\u001b[2K   \u001b[90m━━━━━━━━━━━━━━━━━━━━━━━━━━━━━━━━━━━━━━━━\u001b[0m \u001b[32m116.3/116.3 kB\u001b[0m \u001b[31m12.0 MB/s\u001b[0m eta \u001b[36m0:00:00\u001b[0m\n",
      "\u001b[?25hDownloading fsspec-2025.3.0-py3-none-any.whl (193 kB)\n",
      "\u001b[2K   \u001b[90m━━━━━━━━━━━━━━━━━━━━━━━━━━━━━━━━━━━━━━━━\u001b[0m \u001b[32m193.6/193.6 kB\u001b[0m \u001b[31m19.6 MB/s\u001b[0m eta \u001b[36m0:00:00\u001b[0m\n",
      "\u001b[?25hDownloading multiprocess-0.70.16-py311-none-any.whl (143 kB)\n",
      "\u001b[2K   \u001b[90m━━━━━━━━━━━━━━━━━━━━━━━━━━━━━━━━━━━━━━━━\u001b[0m \u001b[32m143.5/143.5 kB\u001b[0m \u001b[31m13.3 MB/s\u001b[0m eta \u001b[36m0:00:00\u001b[0m\n",
      "\u001b[?25hDownloading xxhash-3.5.0-cp311-cp311-manylinux_2_17_x86_64.manylinux2014_x86_64.whl (194 kB)\n",
      "\u001b[2K   \u001b[90m━━━━━━━━━━━━━━━━━━━━━━━━━━━━━━━━━━━━━━━━\u001b[0m \u001b[32m194.8/194.8 kB\u001b[0m \u001b[31m15.2 MB/s\u001b[0m eta \u001b[36m0:00:00\u001b[0m\n",
      "\u001b[?25hInstalling collected packages: xxhash, fsspec, dill, multiprocess, datasets\n",
      "  Attempting uninstall: fsspec\n",
      "    Found existing installation: fsspec 2025.3.2\n",
      "    Uninstalling fsspec-2025.3.2:\n",
      "      Successfully uninstalled fsspec-2025.3.2\n",
      "\u001b[31mERROR: pip's dependency resolver does not currently take into account all the packages that are installed. This behaviour is the source of the following dependency conflicts.\n",
      "torch 2.6.0+cu124 requires nvidia-cublas-cu12==12.4.5.8; platform_system == \"Linux\" and platform_machine == \"x86_64\", but you have nvidia-cublas-cu12 12.5.3.2 which is incompatible.\n",
      "torch 2.6.0+cu124 requires nvidia-cuda-cupti-cu12==12.4.127; platform_system == \"Linux\" and platform_machine == \"x86_64\", but you have nvidia-cuda-cupti-cu12 12.5.82 which is incompatible.\n",
      "torch 2.6.0+cu124 requires nvidia-cuda-nvrtc-cu12==12.4.127; platform_system == \"Linux\" and platform_machine == \"x86_64\", but you have nvidia-cuda-nvrtc-cu12 12.5.82 which is incompatible.\n",
      "torch 2.6.0+cu124 requires nvidia-cuda-runtime-cu12==12.4.127; platform_system == \"Linux\" and platform_machine == \"x86_64\", but you have nvidia-cuda-runtime-cu12 12.5.82 which is incompatible.\n",
      "torch 2.6.0+cu124 requires nvidia-cudnn-cu12==9.1.0.70; platform_system == \"Linux\" and platform_machine == \"x86_64\", but you have nvidia-cudnn-cu12 9.3.0.75 which is incompatible.\n",
      "torch 2.6.0+cu124 requires nvidia-cufft-cu12==11.2.1.3; platform_system == \"Linux\" and platform_machine == \"x86_64\", but you have nvidia-cufft-cu12 11.2.3.61 which is incompatible.\n",
      "torch 2.6.0+cu124 requires nvidia-curand-cu12==10.3.5.147; platform_system == \"Linux\" and platform_machine == \"x86_64\", but you have nvidia-curand-cu12 10.3.6.82 which is incompatible.\n",
      "torch 2.6.0+cu124 requires nvidia-cusolver-cu12==11.6.1.9; platform_system == \"Linux\" and platform_machine == \"x86_64\", but you have nvidia-cusolver-cu12 11.6.3.83 which is incompatible.\n",
      "torch 2.6.0+cu124 requires nvidia-cusparse-cu12==12.3.1.170; platform_system == \"Linux\" and platform_machine == \"x86_64\", but you have nvidia-cusparse-cu12 12.5.1.3 which is incompatible.\n",
      "torch 2.6.0+cu124 requires nvidia-nvjitlink-cu12==12.4.127; platform_system == \"Linux\" and platform_machine == \"x86_64\", but you have nvidia-nvjitlink-cu12 12.5.82 which is incompatible.\n",
      "gcsfs 2025.3.2 requires fsspec==2025.3.2, but you have fsspec 2025.3.0 which is incompatible.\u001b[0m\u001b[31m\n",
      "\u001b[0mSuccessfully installed datasets-3.6.0 dill-0.3.8 fsspec-2025.3.0 multiprocess-0.70.16 xxhash-3.5.0\n"
     ]
    }
   ],
   "source": [
    "!pip install datasets"
   ]
  },
  {
   "cell_type": "code",
   "execution_count": null,
   "metadata": {
    "colab": {
     "base_uri": "https://localhost:8080/"
    },
    "id": "D5Kgt5HoviUT",
    "outputId": "c8982470-f481-4ac8-c9a5-1e29f41dd5a3"
   },
   "outputs": [
    {
     "name": "stderr",
     "output_type": "stream",
     "text": [
      "[nltk_data] Downloading package punkt to /root/nltk_data...\n",
      "[nltk_data]   Package punkt is already up-to-date!\n"
     ]
    },
    {
     "name": "stdout",
     "output_type": "stream",
     "text": [
      "Libraries imported successfully!\n"
     ]
    }
   ],
   "source": [
    "import torch\n",
    "import torch.nn as nn\n",
    "import torch.optim as optim\n",
    "from torch.utils.data import Dataset, DataLoader\n",
    "import numpy as np\n",
    "import pandas as pd\n",
    "import matplotlib.pyplot as plt\n",
    "from sklearn.model_selection import train_test_split\n",
    "from tqdm import tqdm\n",
    "from collections import Counter\n",
    "import re\n",
    "\n",
    "# For text preprocessing\n",
    "import nltk\n",
    "from nltk.tokenize import word_tokenize\n",
    "nltk.download('punkt')\n",
    "\n",
    "# For loading datasets\n",
    "from datasets import load_dataset\n",
    "\n",
    "# Set random seed for reproducibility\n",
    "torch.manual_seed(42)\n",
    "np.random.seed(42)\n",
    "\n",
    "print(\"Libraries imported successfully!\")"
   ]
  },
  {
   "cell_type": "code",
   "execution_count": null,
   "metadata": {
    "colab": {
     "base_uri": "https://localhost:8080/",
     "height": 397,
     "referenced_widgets": [
      "b6aa7d9ef39f4f49a6527845cf52a2cf",
      "4464630d7e8b438d8c474005f860780f",
      "27bb41520f39417cb9986b6430b9357d",
      "226b2aa1107b4655ba0238bbc7e21360",
      "a4631ea1a72441d4a1380d0c19b05b64",
      "3106b582271f44178e936da669b0bda9",
      "051c94aaff2440628d989aad7985a47e",
      "0a377142ad184b55b4d367b201b630a7",
      "7d40f4b6b44340f2b36d05be25a3e7f6",
      "e3a7876ebf264910b95ce04fdde5bb27",
      "c226143b16c54449b8f9c6510346fcff",
      "52f2f0ae721c407ab45abe27fb8b4dd0",
      "de8c2b4dce234fce93fde4d606b5f249",
      "40dd07a3881644caafb910e8b533e8f8",
      "c44d2ac7f894476392bc8661ff23f655",
      "6d1e755ddc9c44288bf91dbb59c4c605",
      "381cd5f0a3604288bc66ee5e37d1845f",
      "41c772d5b607457182d6c2fab4f47cad",
      "3f06391aa9d1426eb8674c4fdcff9c11",
      "4248b8bd68e141769eb085af942a8e21",
      "5a1831e8944f490981f813fbd448eaeb",
      "6dbc89d4c4084e2293d6a7af9d02c3aa",
      "e6433c2f442b4fb6a3d26fffa3f625be",
      "d260dd4ce2194e90810b46e5282e12ef",
      "121ea9ecdce1420aac3329f755840cf3",
      "0f6c907000f9442da91c0764535ecb56",
      "2cf3fb6b3e9a42ccac24bc2bbe50a633",
      "f9d48c92283643999a8a9c8b67098785",
      "a7d33e1d96a14826aa17b470e199dbce",
      "d4e6f3f860d449f6ae582dbb77cc5d17",
      "5a41848b780349148ef5fb7308ceaba7",
      "86b6a6b74b6b4252a7303fbdb6186d27",
      "91e4bf93a5cd40fbb00f518a27070309",
      "d4dbad44819841579a62acaf9a31ff80",
      "64187a84caaa48cc9e9abc1e26ca882d",
      "9e10181352594f3d816d4731f323f638",
      "bddb2e1894554061a4609ec360cf4630",
      "9013f864403540899c41dfabf204d98e",
      "385e48f1088047c085ac2d82eb0b232d",
      "b900cd70234e4d96a58d3cfc0d46ed48",
      "3e24b920bb904b8a808bbdd7eeb262d7",
      "deb42918b8bc4d5b8bb46f2198cf841a",
      "3d7bbe304aea4e59b36242c49b30a4f9",
      "7726f7d33b53490b99d11a46ba2c8157",
      "2c347aa9a474490e924c75eb2891d418",
      "14efaae39906485aac0bdf83badf63c9",
      "c3f0db950a7e4730bd3786923c9b2f54",
      "2cdb10dc482344b39d2d14a995e1ad90",
      "440c374182914fa7bae06fbe7049cdcb",
      "2d5a964b621847b78f55f30f652276f9",
      "d9e1ea6f7e58456caa1ef9f6263bf154",
      "87a6574f21c04408aaaa16a6d7b52ba6",
      "f158bfd9c5fc4a72baad355b7ff97d5b",
      "5d5175ce19744f0eb42ad4e9b77bf912",
      "f54bd31cdb5e48438262daa19aec0a21",
      "fce47a46500d4a7ba5872323517b079f",
      "65038cd445e043edb543b5bc6e4b3eea",
      "23501eed99684915aa615f8faf371f3e",
      "496536c4000048bbbfa35287f3557844",
      "e2bc066a9ab34775bdfa78ff6890326a",
      "8644e87411a24fa180fdac2f3c0cb99a",
      "11d235056f8b40e6ba916033f88ff18e",
      "373c55d977df428c92b7c81f54e53e09",
      "f2c71eb4c5ec4fd696f5c1171690d4f6",
      "2bbffc4af7eb494bb817dcc4c0e929bb",
      "8a291ff6bf2247a0a2346a5e83f58ec9",
      "b49cac439f7741df8385c0f4a97afce6",
      "6b38e383eeaf48dc98c9fba24aa21aa9",
      "96972db26c63438096cefddac3972bbd",
      "dd6ef707498344b2975805bc08614ec1",
      "81eb77b6153c40e9a5aaec59a61addbe",
      "efc64bc4acb3415ca431389bdf42b125",
      "ab9b105a7f16409da5070292f1dee791",
      "78e4bc6833ca4eb786c044e5972ad75c",
      "bf97f5d829f4452aa888753179ee5ed3",
      "5c57784cec1248c2b5f7ef88717f4d4e",
      "87027963131e40d8a6a2f948447a78db"
     ]
    },
    "id": "kdceDKINvmcW",
    "outputId": "ae44542d-36df-4c08-88e4-bb82167f8aae"
   },
   "outputs": [
    {
     "name": "stderr",
     "output_type": "stream",
     "text": [
      "/usr/local/lib/python3.11/dist-packages/huggingface_hub/utils/_auth.py:94: UserWarning: \n",
      "The secret `HF_TOKEN` does not exist in your Colab secrets.\n",
      "To authenticate with the Hugging Face Hub, create a token in your settings tab (https://huggingface.co/settings/tokens), set it as secret in your Google Colab and restart your session.\n",
      "You will be able to reuse this secret in all of your notebooks.\n",
      "Please note that authentication is recommended but still optional to access public models or datasets.\n",
      "  warnings.warn(\n"
     ]
    },
    {
     "data": {
      "application/vnd.jupyter.widget-view+json": {
       "model_id": "b6aa7d9ef39f4f49a6527845cf52a2cf",
       "version_major": 2,
       "version_minor": 0
      },
      "text/plain": [
       "README.md:   0%|          | 0.00/7.81k [00:00<?, ?B/s]"
      ]
     },
     "metadata": {},
     "output_type": "display_data"
    },
    {
     "data": {
      "application/vnd.jupyter.widget-view+json": {
       "model_id": "52f2f0ae721c407ab45abe27fb8b4dd0",
       "version_major": 2,
       "version_minor": 0
      },
      "text/plain": [
       "train-00000-of-00001.parquet:   0%|          | 0.00/21.0M [00:00<?, ?B/s]"
      ]
     },
     "metadata": {},
     "output_type": "display_data"
    },
    {
     "data": {
      "application/vnd.jupyter.widget-view+json": {
       "model_id": "e6433c2f442b4fb6a3d26fffa3f625be",
       "version_major": 2,
       "version_minor": 0
      },
      "text/plain": [
       "test-00000-of-00001.parquet:   0%|          | 0.00/20.5M [00:00<?, ?B/s]"
      ]
     },
     "metadata": {},
     "output_type": "display_data"
    },
    {
     "data": {
      "application/vnd.jupyter.widget-view+json": {
       "model_id": "d4dbad44819841579a62acaf9a31ff80",
       "version_major": 2,
       "version_minor": 0
      },
      "text/plain": [
       "unsupervised-00000-of-00001.parquet:   0%|          | 0.00/42.0M [00:00<?, ?B/s]"
      ]
     },
     "metadata": {},
     "output_type": "display_data"
    },
    {
     "data": {
      "application/vnd.jupyter.widget-view+json": {
       "model_id": "2c347aa9a474490e924c75eb2891d418",
       "version_major": 2,
       "version_minor": 0
      },
      "text/plain": [
       "Generating train split:   0%|          | 0/25000 [00:00<?, ? examples/s]"
      ]
     },
     "metadata": {},
     "output_type": "display_data"
    },
    {
     "data": {
      "application/vnd.jupyter.widget-view+json": {
       "model_id": "fce47a46500d4a7ba5872323517b079f",
       "version_major": 2,
       "version_minor": 0
      },
      "text/plain": [
       "Generating test split:   0%|          | 0/25000 [00:00<?, ? examples/s]"
      ]
     },
     "metadata": {},
     "output_type": "display_data"
    },
    {
     "data": {
      "application/vnd.jupyter.widget-view+json": {
       "model_id": "b49cac439f7741df8385c0f4a97afce6",
       "version_major": 2,
       "version_minor": 0
      },
      "text/plain": [
       "Generating unsupervised split:   0%|          | 0/50000 [00:00<?, ? examples/s]"
      ]
     },
     "metadata": {},
     "output_type": "display_data"
    },
    {
     "name": "stdout",
     "output_type": "stream",
     "text": [
      "Dataset loaded! Total training examples: 25000\n",
      "Sample review (text): I rented I AM CURIOUS-YELLOW from my video store because of all the controversy that surrounded it w...\n",
      "Sample label (0=negative, 1=positive): 0\n"
     ]
    }
   ],
   "source": [
    "from datasets import load_dataset\n",
    "\n",
    "# Download the dataset\n",
    "dataset = load_dataset(\"imdb\")\n",
    "\n",
    "# Get train and test data\n",
    "train_data = dataset[\"train\"]\n",
    "test_data = dataset[\"test\"]\n",
    "\n",
    "# Display sample data\n",
    "print(f\"Dataset loaded! Total training examples: {len(train_data)}\")\n",
    "print(f\"Sample review (text): {train_data[0]['text'][:100]}...\")\n",
    "print(f\"Sample label (0=negative, 1=positive): {train_data[0]['label']}\")"
   ]
  },
  {
   "cell_type": "code",
   "execution_count": null,
   "metadata": {
    "id": "nZRDvTqbvpGr"
   },
   "outputs": [],
   "source": [
    "def preprocess_text(text):\n",
    "    \"\"\"Clean and tokenize the text\"\"\"\n",
    "    # Convert to lowercase\n",
    "    text = text.lower()\n",
    "    # Remove HTML tags\n",
    "    text = re.sub(r'<.*?>', '', text)\n",
    "    # Remove special characters and digits\n",
    "    text = re.sub(r'[^a-zA-Z\\s]', '', text)\n",
    "    # Tokenize\n",
    "    tokens = word_tokenize(text)\n",
    "    return tokens"
   ]
  },
  {
   "cell_type": "code",
   "execution_count": null,
   "metadata": {
    "colab": {
     "base_uri": "https://localhost:8080/"
    },
    "id": "lpJZpWRnv-d1",
    "outputId": "fdb0092b-1f1d-4b5d-b13e-67f4e911e1f8"
   },
   "outputs": [
    {
     "name": "stderr",
     "output_type": "stream",
     "text": [
      "[nltk_data] Downloading package punkt to /root/nltk_data...\n",
      "[nltk_data]   Package punkt is already up-to-date!\n",
      "[nltk_data] Downloading package punkt_tab to /root/nltk_data...\n",
      "[nltk_data]   Unzipping tokenizers/punkt_tab.zip.\n"
     ]
    },
    {
     "data": {
      "text/plain": [
       "True"
      ]
     },
     "execution_count": 8,
     "metadata": {},
     "output_type": "execute_result"
    }
   ],
   "source": [
    "nltk.download('punkt')\n",
    "nltk.download('punkt_tab')"
   ]
  },
  {
   "cell_type": "code",
   "execution_count": null,
   "metadata": {
    "colab": {
     "base_uri": "https://localhost:8080/"
    },
    "id": "ZK5Ccm_ZvvkS",
    "outputId": "eb531ac9-6df8-4efd-bf7c-f43cde67f6cc"
   },
   "outputs": [
    {
     "name": "stderr",
     "output_type": "stream",
     "text": [
      "100%|██████████| 25000/25000 [00:20<00:00, 1245.21it/s]\n",
      "100%|██████████| 25000/25000 [00:18<00:00, 1358.60it/s]"
     ]
    },
    {
     "name": "stdout",
     "output_type": "stream",
     "text": [
      "Data preprocessing complete! Example tokenized review: ['i', 'rented', 'i', 'am', 'curiousyellow', 'from', 'my', 'video', 'store', 'because', 'of', 'all', 'the', 'controversy', 'that']...\n",
      "Data preprocessing complete! Example tokenized label: 0...\n"
     ]
    },
    {
     "name": "stderr",
     "output_type": "stream",
     "text": [
      "\n"
     ]
    }
   ],
   "source": [
    "\n",
    "# Process training data\n",
    "train_reviews = []\n",
    "train_labels = []\n",
    "\n",
    "for sample in tqdm(train_data):\n",
    "    # Labels are already integers (0=negative, 1=positive)\n",
    "    label_int = sample['label']\n",
    "    train_labels.append(label_int)\n",
    "    # Preprocess text\n",
    "    tokens = preprocess_text(sample['text'])\n",
    "    train_reviews.append(tokens)\n",
    "\n",
    "# Process test data\n",
    "test_reviews = []\n",
    "test_labels = []\n",
    "\n",
    "for sample in tqdm(test_data):\n",
    "    label_int = sample['label']\n",
    "    test_labels.append(label_int)\n",
    "    tokens = preprocess_text(sample['text'])\n",
    "    test_reviews.append(tokens)\n",
    "\n",
    "print(f\"Data preprocessing complete! Example tokenized review: {train_reviews[0][:15]}...\")\n",
    "print(f\"Data preprocessing complete! Example tokenized label: {train_labels[0]}...\")"
   ]
  },
  {
   "cell_type": "code",
   "execution_count": null,
   "metadata": {
    "colab": {
     "base_uri": "https://localhost:8080/"
    },
    "id": "FpAmuurHwGdt",
    "outputId": "8b7aa056-3056-48e1-b56f-0d6c436921e1"
   },
   "outputs": [
    {
     "name": "stdout",
     "output_type": "stream",
     "text": [
      "Vocabulary created with 10000 words!\n",
      "Sample words: [('the', 2), ('and', 3), ('a', 4), ('of', 5), ('to', 6), ('is', 7), ('in', 8), ('it', 9), ('this', 10), ('i', 11)]\n"
     ]
    }
   ],
   "source": [
    "def build_vocab(reviews, max_words=10000):\n",
    "    \"\"\"Build a vocabulary of the most common words\"\"\"\n",
    "    word_count = Counter()\n",
    "\n",
    "    # Count all words\n",
    "    for review in reviews:\n",
    "        word_count.update(review)\n",
    "\n",
    "    # Select most common words\n",
    "    most_common = word_count.most_common(max_words - 2)  # -2 for <UNK> and <PAD>\n",
    "    vocab = {word: idx+2 for idx, (word, _) in enumerate(most_common)}\n",
    "\n",
    "    # Add special tokens\n",
    "    vocab['<PAD>'] = 0\n",
    "    vocab['<UNK>'] = 1\n",
    "\n",
    "    return vocab\n",
    "\n",
    "# Build vocabulary from training data\n",
    "vocab = build_vocab(train_reviews)\n",
    "vocab_size = len(vocab)\n",
    "\n",
    "print(f\"Vocabulary created with {vocab_size} words!\")\n",
    "print(f\"Sample words: {list(vocab.items())[:10]}\")\n",
    "\n",
    "# Create a reverse mapping for decoding\n",
    "idx_to_word = {idx: word for word, idx in vocab.items()}"
   ]
  },
  {
   "cell_type": "code",
   "execution_count": null,
   "metadata": {
    "colab": {
     "base_uri": "https://localhost:8080/",
     "height": 651
    },
    "id": "B3eDyfVUwLMe",
    "outputId": "8ab60417-1ca6-4d22-cb49-ef305a6dab4f"
   },
   "outputs": [
    {
     "name": "stdout",
     "output_type": "stream",
     "text": [
      "Maximum review length: 2441\n",
      "Mean review length: 227.81\n",
      "Median review length: 170.0\n",
      "95th percentile length: 583.0\n"
     ]
    },
    {
     "data": {
      "image/png": "[encoded data removed]",
      "text/plain": [
       "<Figure size 1000x600 with 1 Axes>"
      ]
     },
     "metadata": {},
     "output_type": "display_data"
    },
    {
     "name": "stdout",
     "output_type": "stream",
     "text": [
      "Chosen max_len: 583\n"
     ]
    }
   ],
   "source": [
    "# Analyze review lengths to determine optimal max_len\n",
    "review_lengths = [len(review) for review in train_reviews]\n",
    "max_review_length = max(review_lengths)\n",
    "mean_length = np.mean(review_lengths)\n",
    "median_length = np.median(review_lengths)\n",
    "p95_length = np.percentile(review_lengths, 95)\n",
    "\n",
    "print(f\"Maximum review length: {max_review_length}\")\n",
    "print(f\"Mean review length: {mean_length:.2f}\")\n",
    "print(f\"Median review length: {median_length}\")\n",
    "print(f\"95th percentile length: {p95_length}\")\n",
    "\n",
    "# Plotting the distribution of review lengths\n",
    "plt.figure(figsize=(10, 6))\n",
    "plt.hist(review_lengths, bins=50)\n",
    "plt.axvline(x=max_review_length, color='r', linestyle='--', label=f'Max: {max_review_length}')\n",
    "plt.axvline(x=p95_length, color='g', linestyle='--', label=f'95th: {p95_length:.0f}')\n",
    "plt.axvline(x=median_length, color='b', linestyle='--', label=f'Median: {median_length}')\n",
    "plt.title(\"Distribution of Review Lengths\")\n",
    "plt.xlabel(\"Length (number of tokens)\")\n",
    "plt.ylabel(\"Count\")\n",
    "plt.legend()\n",
    "plt.grid(True, alpha=0.3)\n",
    "plt.show()\n",
    "\n",
    "# Choose max_len based on 95th percentile to avoid excessive padding\n",
    "# while still covering most reviews without truncation\n",
    "chosen_max_len = int(p95_length)\n",
    "print(f\"Chosen max_len: {chosen_max_len}\")"
   ]
  },
  {
   "cell_type": "code",
   "execution_count": null,
   "metadata": {
    "colab": {
     "base_uri": "https://localhost:8080/"
    },
    "id": "jRHeEs1TwOQP",
    "outputId": "fbc73f7d-7242-45f3-9ce4-556d2f7fdda9"
   },
   "outputs": [
    {
     "name": "stderr",
     "output_type": "stream",
     "text": [
      "100%|██████████| 25000/25000 [00:00<00:00, 27191.27it/s]\n",
      "100%|██████████| 25000/25000 [00:01<00:00, 23300.47it/s]\n"
     ]
    },
    {
     "name": "stdout",
     "output_type": "stream",
     "text": [
      "Data encoding complete! Example sequence: tensor([  11, 1511,   11,  237,    1,   36,   59,  390, 1132,   78,    5,   31,\n",
      "           2, 6947,   12])...\n",
      "All sequences are now of length 583\n",
      "Reviews truncated: 1245 (4.98%)\n"
     ]
    }
   ],
   "source": [
    "def encode_review(review, vocab, max_len=None):\n",
    "    \"\"\"Convert a review to a fixed-length sequence of integers\"\"\"\n",
    "    # Use the chosen max_len from analysis if none provided\n",
    "    if max_len is None:\n",
    "        max_len = chosen_max_len\n",
    "\n",
    "    # Encode words, use <UNK> for unknown words\n",
    "    encoded = [vocab.get(word, vocab['<UNK>']) for word in review[:max_len]]\n",
    "\n",
    "    # Pad sequences to the same length\n",
    "    if len(encoded) < max_len:\n",
    "        encoded += [vocab['<PAD>']] * (max_len - len(encoded))\n",
    "\n",
    "    return encoded\n",
    "\n",
    "# Encode all reviews using the dynamically determined max_len\n",
    "train_encoded = [encode_review(review, vocab) for review in tqdm(train_reviews)]\n",
    "test_encoded = [encode_review(review, vocab) for review in tqdm(test_reviews)]\n",
    "\n",
    "# Convert to tensors\n",
    "train_sequences = torch.tensor(train_encoded, dtype=torch.long)\n",
    "train_labels_tensor = torch.tensor(train_labels, dtype=torch.float)\n",
    "test_sequences = torch.tensor(test_encoded, dtype=torch.long)\n",
    "test_labels_tensor = torch.tensor(test_labels, dtype=torch.float)\n",
    "\n",
    "print(f\"Data encoding complete! Example sequence: {train_sequences[0][:15]}...\")\n",
    "print(f\"All sequences are now of length {chosen_max_len}\")\n",
    "\n",
    "# Calculate how many reviews were truncated\n",
    "truncated_count = sum(1 for length in review_lengths if length > chosen_max_len)\n",
    "truncated_percentage = (truncated_count / len(review_lengths)) * 100\n",
    "print(f\"Reviews truncated: {truncated_count} ({truncated_percentage:.2f}%)\")"
   ]
  },
  {
   "cell_type": "code",
   "execution_count": null,
   "metadata": {
    "colab": {
     "base_uri": "https://localhost:8080/"
    },
    "id": "eFgXKCDewT3e",
    "outputId": "6e0e8e5a-d056-4a86-a29c-e33d630ab306"
   },
   "outputs": [
    {
     "name": "stderr",
     "output_type": "stream",
     "text": [
      "100%|██████████| 25000/25000 [00:01<00:00, 20910.92it/s]\n",
      "100%|██████████| 25000/25000 [00:00<00:00, 38367.48it/s]\n"
     ]
    },
    {
     "name": "stdout",
     "output_type": "stream",
     "text": [
      "Data encoding complete! Example sequence: tensor([  11, 1511,   11,  237,    1,   36,   59,  390, 1132,   78,    5,   31,\n",
      "           2, 6947,   12])...\n"
     ]
    }
   ],
   "source": [
    "def encode_review(review, vocab, max_len=200):\n",
    "    \"\"\"Convert a review to a fixed-length sequence of integers\"\"\"\n",
    "    # Encode words, use <UNK> for unknown words\n",
    "    encoded = [vocab.get(word, vocab['<UNK>']) for word in review[:max_len]]\n",
    "\n",
    "    # Pad sequences to the same length\n",
    "    if len(encoded) < max_len:\n",
    "        encoded += [vocab['<PAD>']] * (max_len - len(encoded))\n",
    "\n",
    "    return encoded\n",
    "\n",
    "# Encode all reviews\n",
    "train_encoded = [encode_review(review, vocab) for review in tqdm(train_reviews)]\n",
    "test_encoded = [encode_review(review, vocab) for review in tqdm(test_reviews)]\n",
    "\n",
    "# Convert to tensors\n",
    "train_sequences = torch.tensor(train_encoded, dtype=torch.long)\n",
    "train_labels_tensor = torch.tensor(train_labels, dtype=torch.float)\n",
    "test_sequences = torch.tensor(test_encoded, dtype=torch.long)\n",
    "test_labels_tensor = torch.tensor(test_labels, dtype=torch.float)\n",
    "\n",
    "print(f\"Data encoding complete! Example sequence: {train_sequences[0][:15]}...\")"
   ]
  },
  {
   "cell_type": "code",
   "execution_count": null,
   "metadata": {
    "colab": {
     "base_uri": "https://localhost:8080/"
    },
    "id": "jIWKce2twW89",
    "outputId": "4f60b8cf-ad78-4f43-fde8-85df05512900"
   },
   "outputs": [
    {
     "name": "stdout",
     "output_type": "stream",
     "text": [
      "DataLoaders created! Training batches: 352\n"
     ]
    }
   ],
   "source": [
    "class IMDbDataset(Dataset):\n",
    "    def __init__(self, sequences, labels):\n",
    "        self.sequences = sequences\n",
    "        self.labels = labels\n",
    "\n",
    "    def __len__(self):\n",
    "        return len(self.sequences)\n",
    "\n",
    "    def __getitem__(self, idx):\n",
    "        return self.sequences[idx], self.labels[idx]\n",
    "\n",
    "# Create train/validation split\n",
    "train_seq, val_seq, train_labels, val_labels = train_test_split(\n",
    "    train_sequences, train_labels_tensor, test_size=0.1, random_state=42\n",
    ")\n",
    "\n",
    "# Create datasets\n",
    "train_dataset = IMDbDataset(train_seq, train_labels)\n",
    "val_dataset = IMDbDataset(val_seq, val_labels)\n",
    "test_dataset = IMDbDataset(test_sequences, test_labels_tensor)\n",
    "\n",
    "# Create dataloaders\n",
    "batch_size = 64\n",
    "train_loader = DataLoader(train_dataset, batch_size=batch_size, shuffle=True)\n",
    "val_loader = DataLoader(val_dataset, batch_size=batch_size)\n",
    "test_loader = DataLoader(test_dataset, batch_size=batch_size)\n",
    "\n",
    "print(f\"DataLoaders created! Training batches: {len(train_loader)}\")"
   ]
  },
  {
   "cell_type": "code",
   "execution_count": null,
   "metadata": {
    "id": "t1AZz1FFwY53"
   },
   "outputs": [],
   "source": [
    "class SentimentLSTM(nn.Module):\n",
    "    def __init__(self, vocab_size, embedding_dim, hidden_dim, output_dim, bidirection = False, n_layers=1, dropout=0.5):\n",
    "        super().__init__()\n",
    "\n",
    "        # Embedding layer\n",
    "        self.embedding = nn.Embedding(vocab_size, embedding_dim, padding_idx=0)\n",
    "\n",
    "        # LSTM layer\n",
    "        self.lstm = nn.LSTM(embedding_dim,\n",
    "                        hidden_dim,\n",
    "                        num_layers=n_layers,\n",
    "                        bidirectional = bidirection,\n",
    "                        dropout=dropout if n_layers > 1 else 0,\n",
    "                        batch_first=True)\n",
    "\n",
    "        # Dropout layer\n",
    "        self.dropout = nn.Dropout(dropout)\n",
    "\n",
    "        # Fully connected layer\n",
    "        self.fc = nn.Linear(hidden_dim, output_dim)\n",
    "\n",
    "    def forward(self, text):\n",
    "        # text shape: [batch_size, seq_len]\n",
    "        # Embed the text\n",
    "        embedded = self.embedding(text)  # [batch_size, seq_len, embedding_dim]\n",
    "\n",
    "        # Pass through LSTM\n",
    "        lstm_out, (hidden, cell) = self.lstm(embedded)\n",
    "        # hidden shape: [n_layers, batch_size, hidden_dim]\n",
    "\n",
    "        # Use the final hidden state\n",
    "        hidden = self.dropout(hidden[-1, :, :])  # [batch_size, hidden_dim]\n",
    "\n",
    "        # Pass through linear layer\n",
    "        return self.fc(hidden)"
   ]
  },
  {
   "cell_type": "code",
   "execution_count": null,
   "metadata": {
    "colab": {
     "base_uri": "https://localhost:8080/"
    },
    "id": "84Q_qDfaw3rJ",
    "outputId": "00523343-a6fb-4c15-8dc8-d0c13e1e0d28"
   },
   "outputs": [
    {
     "name": "stdout",
     "output_type": "stream",
     "text": [
      "Model created and moved to cuda!\n",
      "SentimentLSTM(\n",
      "  (embedding): Embedding(10000, 100, padding_idx=0)\n",
      "  (lstm): LSTM(100, 256, num_layers=2, batch_first=True, dropout=0.5)\n",
      "  (dropout): Dropout(p=0.5, inplace=False)\n",
      "  (fc): Linear(in_features=256, out_features=1, bias=True)\n",
      ")\n"
     ]
    }
   ],
   "source": [
    "# Initialize model\n",
    "embedding_dim = 100\n",
    "hidden_dim = 256\n",
    "output_dim = 1\n",
    "n_layers = 2\n",
    "\n",
    "model = SentimentLSTM(\n",
    "    vocab_size=vocab_size,\n",
    "    embedding_dim=embedding_dim,\n",
    "    hidden_dim=hidden_dim,\n",
    "    output_dim=output_dim,\n",
    "    n_layers=n_layers\n",
    ")\n",
    "\n",
    "# Move model to GPU if available\n",
    "device = torch.device('cuda' if torch.cuda.is_available() else 'cpu')\n",
    "model = model.to(device)\n",
    "print(f\"Model created and moved to {device}!\")\n",
    "print(model)"
   ]
  },
  {
   "cell_type": "markdown",
   "metadata": {
    "id": "fsPF7SBG0Eeq"
   },
   "source": [
    "# Here is the modified part I stacked the layers and made the LSTM bidirectional"
   ]
  },
  {
   "cell_type": "code",
   "execution_count": null,
   "metadata": {
    "colab": {
     "base_uri": "https://localhost:8080/"
    },
    "id": "so1Kf758xSHU",
    "outputId": "7cfbaafb-2ac4-432f-b317-31cc56a6926b"
   },
   "outputs": [
    {
     "name": "stdout",
     "output_type": "stream",
     "text": [
      "Model created and moved to cuda!\n",
      "SentimentLSTM(\n",
      "  (embedding): Embedding(10000, 100, padding_idx=0)\n",
      "  (lstm): LSTM(100, 256, num_layers=3, batch_first=True, dropout=0.5, bidirectional=True)\n",
      "  (dropout): Dropout(p=0.5, inplace=False)\n",
      "  (fc): Linear(in_features=256, out_features=1, bias=True)\n",
      ")\n"
     ]
    }
   ],
   "source": [
    "#Stacked model of 3 layers\n",
    "\n",
    "embedding_dim = 100\n",
    "hidden_dim = 256\n",
    "output_dim = 1\n",
    "n_layers = 3\n",
    "\n",
    "model = SentimentLSTM(\n",
    "    vocab_size=vocab_size,\n",
    "    embedding_dim=embedding_dim,\n",
    "    hidden_dim=hidden_dim,\n",
    "    output_dim=output_dim,\n",
    "    bidirection = True,\n",
    "    n_layers=n_layers\n",
    ")\n",
    "\n",
    "device = torch.device('cuda' if torch.cuda.is_available() else 'cpu')\n",
    "model = model.to(device)\n",
    "print(f\"Model created and moved to {device}!\")\n",
    "print(model)"
   ]
  },
  {
   "cell_type": "code",
   "execution_count": null,
   "metadata": {
    "colab": {
     "base_uri": "https://localhost:8080/"
    },
    "id": "a7KgQhc5w52P",
    "outputId": "8858c4ba-3acb-42aa-8270-5e00a74fee67"
   },
   "outputs": [
    {
     "name": "stdout",
     "output_type": "stream",
     "text": [
      "Loss function and optimizer defined!\n"
     ]
    }
   ],
   "source": [
    "# Binary Cross Entropy Loss\n",
    "criterion = nn.BCEWithLogitsLoss()\n",
    "\n",
    "# Adam optimizer\n",
    "optimizer = optim.Adam(model.parameters(), lr=0.001)\n",
    "\n",
    "print(\"Loss function and optimizer defined!\")"
   ]
  },
  {
   "cell_type": "code",
   "execution_count": null,
   "metadata": {
    "id": "75nQpATTw7vl"
   },
   "outputs": [],
   "source": [
    "def train(model, iterator, optimizer, criterion):\n",
    "    \"\"\"Training function for one epoch\"\"\"\n",
    "    # Set model to training mode\n",
    "    model.train()\n",
    "\n",
    "    # Track loss\n",
    "    epoch_loss = 0\n",
    "    epoch_acc = 0\n",
    "\n",
    "    # Iterate over batches\n",
    "    for batch in tqdm(iterator, desc=\"Training\"):\n",
    "        # Get batch data\n",
    "        text, labels = batch\n",
    "        text, labels = text.to(device), labels.to(device)\n",
    "\n",
    "        # Zero gradients\n",
    "        optimizer.zero_grad()\n",
    "\n",
    "        # Forward pass\n",
    "        predictions = model(text).squeeze(1)\n",
    "\n",
    "        # Calculate loss\n",
    "        loss = criterion(predictions, labels)\n",
    "\n",
    "        # Calculate accuracy\n",
    "        predicted_classes = torch.round(torch.sigmoid(predictions))\n",
    "        correct = (predicted_classes == labels).float()\n",
    "        accuracy = correct.sum() / len(correct)\n",
    "\n",
    "        # Backward pass\n",
    "        loss.backward()\n",
    "\n",
    "        # Update parameters\n",
    "        optimizer.step()\n",
    "\n",
    "        # Update metrics\n",
    "        epoch_loss += loss.item()\n",
    "        epoch_acc += accuracy.item()\n",
    "\n",
    "    # Return average loss and accuracy\n",
    "    return epoch_loss / len(iterator), epoch_acc / len(iterator)"
   ]
  },
  {
   "cell_type": "code",
   "execution_count": null,
   "metadata": {
    "id": "qNQcJ2M-xAU7"
   },
   "outputs": [],
   "source": [
    "def evaluate(model, iterator, criterion):\n",
    "    \"\"\"Evaluation function\"\"\"\n",
    "    # Set model to evaluation mode\n",
    "    model.eval()\n",
    "\n",
    "    # Track loss\n",
    "    epoch_loss = 0\n",
    "    epoch_acc = 0\n",
    "\n",
    "    # No gradients needed for evaluation\n",
    "    with torch.no_grad():\n",
    "        # Iterate over batches\n",
    "        for batch in tqdm(iterator, desc=\"Evaluating\"):\n",
    "            # Get batch data\n",
    "            text, labels = batch\n",
    "            text, labels = text.to(device), labels.to(device)\n",
    "\n",
    "            # Forward pass\n",
    "            predictions = model(text).squeeze(1)\n",
    "\n",
    "            # Calculate loss\n",
    "            loss = criterion(predictions, labels)\n",
    "\n",
    "            # Calculate accuracy\n",
    "            predicted_classes = torch.round(torch.sigmoid(predictions))\n",
    "            correct = (predicted_classes == labels).float()\n",
    "            accuracy = correct.sum() / len(correct)\n",
    "\n",
    "            # Update metrics\n",
    "            epoch_loss += loss.item()\n",
    "            epoch_acc += accuracy.item()\n",
    "\n",
    "    # Return average loss and accuracy\n",
    "    return epoch_loss / len(iterator), epoch_acc / len(iterator)"
   ]
  },
  {
   "cell_type": "code",
   "execution_count": null,
   "metadata": {
    "colab": {
     "base_uri": "https://localhost:8080/"
    },
    "id": "dyzhaOs-xDmY",
    "outputId": "fdc051ec-5c62-44f7-c34a-09b0d2948a15"
   },
   "outputs": [
    {
     "name": "stdout",
     "output_type": "stream",
     "text": [
      "\n",
      "Epoch 1/5\n",
      "--------------------\n"
     ]
    },
    {
     "name": "stderr",
     "output_type": "stream",
     "text": [
      "Training: 100%|██████████| 352/352 [00:43<00:00,  8.10it/s]\n",
      "Evaluating: 100%|██████████| 40/40 [00:01<00:00, 22.85it/s]\n"
     ]
    },
    {
     "name": "stdout",
     "output_type": "stream",
     "text": [
      "Train Loss: 0.4406 | Train Acc: 79.88%\n",
      "Val Loss: 0.4335 | Val Acc: 79.38%\n",
      "\n",
      "Epoch 2/5\n",
      "--------------------\n"
     ]
    },
    {
     "name": "stderr",
     "output_type": "stream",
     "text": [
      "Training: 100%|██████████| 352/352 [00:42<00:00,  8.22it/s]\n",
      "Evaluating: 100%|██████████| 40/40 [00:01<00:00, 23.13it/s]\n"
     ]
    },
    {
     "name": "stdout",
     "output_type": "stream",
     "text": [
      "Train Loss: 0.3261 | Train Acc: 86.61%\n",
      "Val Loss: 0.3846 | Val Acc: 84.80%\n",
      "\n",
      "Epoch 3/5\n",
      "--------------------\n"
     ]
    },
    {
     "name": "stderr",
     "output_type": "stream",
     "text": [
      "Training: 100%|██████████| 352/352 [00:43<00:00,  8.18it/s]\n",
      "Evaluating: 100%|██████████| 40/40 [00:01<00:00, 23.08it/s]\n"
     ]
    },
    {
     "name": "stdout",
     "output_type": "stream",
     "text": [
      "Train Loss: 0.2667 | Train Acc: 89.70%\n",
      "Val Loss: 0.3693 | Val Acc: 85.31%\n",
      "\n",
      "Epoch 4/5\n",
      "--------------------\n"
     ]
    },
    {
     "name": "stderr",
     "output_type": "stream",
     "text": [
      "Training: 100%|██████████| 352/352 [00:42<00:00,  8.22it/s]\n",
      "Evaluating: 100%|██████████| 40/40 [00:01<00:00, 22.92it/s]\n"
     ]
    },
    {
     "name": "stdout",
     "output_type": "stream",
     "text": [
      "Train Loss: 0.2252 | Train Acc: 91.47%\n",
      "Val Loss: 0.4035 | Val Acc: 85.16%\n",
      "\n",
      "Epoch 5/5\n",
      "--------------------\n"
     ]
    },
    {
     "name": "stderr",
     "output_type": "stream",
     "text": [
      "Training: 100%|██████████| 352/352 [00:42<00:00,  8.21it/s]\n",
      "Evaluating: 100%|██████████| 40/40 [00:01<00:00, 22.98it/s]"
     ]
    },
    {
     "name": "stdout",
     "output_type": "stream",
     "text": [
      "Train Loss: 0.1822 | Train Acc: 93.51%\n",
      "Val Loss: 0.3832 | Val Acc: 85.35%\n",
      "\n",
      "Training complete!\n"
     ]
    },
    {
     "name": "stderr",
     "output_type": "stream",
     "text": [
      "\n"
     ]
    }
   ],
   "source": [
    "n_epochs = 5\n",
    "\n",
    "# Lists to store metrics\n",
    "train_losses = []\n",
    "train_accs = []\n",
    "val_losses = []\n",
    "val_accs = []\n",
    "\n",
    "# Training loop\n",
    "for epoch in range(n_epochs):\n",
    "    print(f\"\\nEpoch {epoch+1}/{n_epochs}\")\n",
    "    print(\"-\" * 20)\n",
    "\n",
    "    # Train\n",
    "    train_loss, train_acc = train(model, train_loader, optimizer, criterion)\n",
    "    train_losses.append(train_loss)\n",
    "    train_accs.append(train_acc)\n",
    "\n",
    "    # Evaluate\n",
    "    val_loss, val_acc = evaluate(model, val_loader, criterion)\n",
    "    val_losses.append(val_loss)\n",
    "    val_accs.append(val_acc)\n",
    "\n",
    "    # Print metrics\n",
    "    print(f\"Train Loss: {train_loss:.4f} | Train Acc: {train_acc*100:.2f}%\")\n",
    "    print(f\"Val Loss: {val_loss:.4f} | Val Acc: {val_acc*100:.2f}%\")\n",
    "\n",
    "print(\"\\nTraining complete!\")"
   ]
  },
  {
   "cell_type": "code",
   "execution_count": null,
   "metadata": {
    "colab": {
     "base_uri": "https://localhost:8080/",
     "height": 507
    },
    "id": "zFMI1XWUxF-2",
    "outputId": "391b0a60-08e7-4e93-a05a-f6f5cd9bfcf4"
   },
   "outputs": [
    {
     "data": {
      "image/png": "[encoded data removed]",
      "text/plain": [
       "<Figure size 1200x500 with 2 Axes>"
      ]
     },
     "metadata": {},
     "output_type": "display_data"
    }
   ],
   "source": [
    "#initial model\n",
    "plt.figure(figsize=(12, 5))\n",
    "\n",
    "# Plot loss\n",
    "plt.subplot(1, 2, 1)\n",
    "plt.plot(train_losses, label='Train Loss')\n",
    "plt.plot(val_losses, label='Val Loss')\n",
    "plt.xlabel('Epoch')\n",
    "plt.ylabel('Loss')\n",
    "plt.title('Training and Validation Loss')\n",
    "plt.legend()\n",
    "\n",
    "# Plot accuracy\n",
    "plt.subplot(1, 2, 2)\n",
    "plt.plot(train_accs, label='Train Acc')\n",
    "plt.plot(val_accs, label='Val Acc')\n",
    "plt.xlabel('Epoch')\n",
    "plt.ylabel('Accuracy')\n",
    "plt.title('Training and Validation Accuracy')\n",
    "plt.legend()\n",
    "\n",
    "plt.tight_layout()\n",
    "plt.show()"
   ]
  },
  {
   "cell_type": "markdown",
   "metadata": {
    "id": "cwEjCLFD0N_4"
   },
   "source": [
    "## This is the result I got"
   ]
  },
  {
   "cell_type": "code",
   "execution_count": null,
   "metadata": {
    "colab": {
     "base_uri": "https://localhost:8080/",
     "height": 507
    },
    "id": "cNpE2gCPyEhV",
    "outputId": "b6420984-194e-45b4-a6aa-d4a809262deb"
   },
   "outputs": [
    {
     "data": {
      "image/png": "[encoded data removed]",
      "text/plain": [
       "<Figure size 1200x500 with 2 Axes>"
      ]
     },
     "metadata": {},
     "output_type": "display_data"
    }
   ],
   "source": [
    "#second model\n",
    "plt.figure(figsize=(12, 5))\n",
    "\n",
    "# Plot loss\n",
    "plt.subplot(1, 2, 1)\n",
    "plt.plot(train_losses, label='Train Loss')\n",
    "plt.plot(val_losses, label='Val Loss')\n",
    "plt.xlabel('Epoch')\n",
    "plt.ylabel('Loss')\n",
    "plt.title('Training and Validation Loss')\n",
    "plt.legend()\n",
    "\n",
    "# Plot accuracy\n",
    "plt.subplot(1, 2, 2)\n",
    "plt.plot(train_accs, label='Train Acc')\n",
    "plt.plot(val_accs, label='Val Acc')\n",
    "plt.xlabel('Epoch')\n",
    "plt.ylabel('Accuracy')\n",
    "plt.title('Training and Validation Accuracy')\n",
    "plt.legend()\n",
    "\n",
    "plt.tight_layout()\n",
    "plt.show()"
   ]
  },
  {
   "cell_type": "code",
   "execution_count": null,
   "metadata": {
    "colab": {
     "base_uri": "https://localhost:8080/"
    },
    "id": "DvyaYgyhxIub",
    "outputId": "f7a5c63b-e107-4e01-bc0d-184ba6a43664"
   },
   "outputs": [
    {
     "name": "stdout",
     "output_type": "stream",
     "text": [
      "Model predictions on sample reviews:\n",
      "Review: This movie was absolutely amazing! The acting was ...\n",
      "Sentiment: Positive (probability: 0.9901)\n",
      "--------------------------------------------------\n",
      "Review: I was thoroughly disappointed with this film. The ...\n",
      "Sentiment: Negative (probability: 0.0088)\n",
      "--------------------------------------------------\n",
      "Review: It was okay. Nothing special but not terrible eith...\n",
      "Sentiment: Negative (probability: 0.0284)\n",
      "--------------------------------------------------\n",
      "Review: Despite some flaws in the plot, the movie had grea...\n",
      "Sentiment: Positive (probability: 0.9193)\n",
      "--------------------------------------------------\n"
     ]
    }
   ],
   "source": [
    "def predict_sentiment(model, text, vocab, max_len=200):\n",
    "    \"\"\"Predict sentiment for a single text input\"\"\"\n",
    "    # Preprocess\n",
    "    tokens = preprocess_text(text)\n",
    "    # Encode\n",
    "    encoded = encode_review(tokens, vocab, max_len)\n",
    "    # Convert to tensor\n",
    "    tensor = torch.tensor(encoded).unsqueeze(0).to(device)  # Add batch dimension\n",
    "\n",
    "    # Set model to evaluation mode\n",
    "    model.eval()\n",
    "\n",
    "    # Get prediction\n",
    "    with torch.no_grad():\n",
    "        prediction = torch.sigmoid(model(tensor).squeeze(1))\n",
    "\n",
    "    # Return probability and sentiment\n",
    "    probability = prediction.item()\n",
    "    sentiment = \"Positive\" if probability >= 0.5 else \"Negative\"\n",
    "\n",
    "    return probability, sentiment\n",
    "\n",
    "# Test on some examples\n",
    "sample_reviews = [\n",
    "    \"This movie was absolutely amazing! The acting was superb and the plot was engaging.\",\n",
    "    \"I was thoroughly disappointed with this film. The story made no sense and the acting was terrible.\",\n",
    "    \"It was okay. Nothing special but not terrible either.\",\n",
    "    \"Despite some flaws in the plot, the movie had great visual effects and good performances.\"\n",
    "]\n",
    "\n",
    "print(\"Model predictions on sample reviews:\")\n",
    "for review in sample_reviews:\n",
    "    prob, sent = predict_sentiment(model, review, vocab)\n",
    "    print(f\"Review: {review[:50]}...\")\n",
    "    print(f\"Sentiment: {sent} (probability: {prob:.4f})\")\n",
    "    print(\"-\" * 50)"
   ]
  },
  {
   "cell_type": "code",
   "execution_count": null,
   "metadata": {
    "id": "0jZALvw8vyHO"
   },
   "outputs": [],
   "source": []
  }
 ],
 "metadata": {
  "accelerator": "GPU",
  "colab": {
   "gpuType": "T4",
   "provenance": []
  },
  "kernelspec": {
   "display_name": "Python 3",
   "name": "python3"
  },
  "language_info": {
   "name": "python"
  }
 },
 "nbformat": 4,
 "nbformat_minor": 0
}
